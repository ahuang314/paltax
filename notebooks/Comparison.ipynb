{
 "cells": [
  {
   "cell_type": "code",
   "execution_count": null,
   "id": "1bcce9f8-5b40-4ca0-8f1e-b84bcdde80cb",
   "metadata": {
    "tags": []
   },
   "outputs": [],
   "source": [
    "import paltas\n",
    "\n",
    "import jaxstronomy\n",
    "\n",
    "import jax\n",
    "import jax.numpy as jnp\n",
    "import numpy as np\n",
    "import functools\n",
    "import matplotlib.pyplot as plt\n",
    "import copy"
   ]
  },
  {
   "cell_type": "markdown",
   "id": "23104dfa-ee4f-4070-b200-b4688adba4ec",
   "metadata": {},
   "source": [
    "The paltas and jaxstronomy codebase are performing the same operations, so \n",
    "\n",
    "There are three components to an update step for our model:\n",
    "\n",
    "1. Drawing a population of dark matter substructure for the lensing calculations.\n",
    "2. Generating a lensing image given that dark matter substructure population.\n",
    "3. Updating the model given a batch of images.\n",
    "\n",
    "Below we'll create code that should generate the same outputs (up to random seed issues for the first bullepoint) that we can\n",
    "compare."
   ]
  },
  {
   "cell_type": "markdown",
   "id": "3ee63f8e-47ac-42af-b8c9-a6370b93ff1e",
   "metadata": {},
   "source": [
    "## Drawing a population of dark matter substructure for the lensing calculations."
   ]
  },
  {
   "cell_type": "code",
   "execution_count": null,
   "id": "54cdcc6e-684e-4938-a8a9-cf3786ab1623",
   "metadata": {
    "tags": []
   },
   "outputs": [],
   "source": [
    "# Setup paltas and jaxstronomy configs\n",
    "config_handler = paltas.Configs.config_handler.ConfigHandler('comparison_files/input_config_paltas.py')\n",
    "\n",
    "from comparison_files import input_config_jaxstronomy\n",
    "rng = jax.random.PRNGKey(0)\n",
    "input_config_jax = input_config_jaxstronomy.get_config()"
   ]
  },
  {
   "cell_type": "code",
   "execution_count": null,
   "id": "d6799902-8c81-4eaf-82dd-198aabfe4652",
   "metadata": {
    "tags": []
   },
   "outputs": [],
   "source": [
    "# A bit of setup for the jaxstronomy code. This is drawing the specific distribution parameters for the subhalos, main deflector halos,\n",
    "# and the source. These are all encoded as constants, so we're just drawing the constant values.\n",
    "subhalo_params = jaxstronomy.input_pipeline.draw_sample(input_config_jax['lensing_config']['subhalo_params'], rng)\n",
    "main_deflector_params = jaxstronomy.input_pipeline.draw_sample(input_config_jax['lensing_config']['main_deflector_params'], rng)\n",
    "source_params = jaxstronomy.input_pipeline.draw_sample(input_config_jax['lensing_config']['source_params'], rng)\n",
    "\n",
    "# Initialize the cosmology parameters we need for our cosmology calculations and create a jitted function for fast draws.\n",
    "cosmology_params = jaxstronomy.input_pipeline.intialize_cosmology_params(input_config_jax, rng)\n",
    "subhalos_pad_length = 1000\n",
    "sampling_pad_length = 100000\n",
    "draw_subhalos_jit = jax.jit(functools.partial(jaxstronomy.subhalos.draw_subhalos, subhalos_pad_length=subhalos_pad_length, \n",
    "                                              sampling_pad_length=sampling_pad_length))\n",
    "_ = draw_subhalos_jit(main_deflector_params, source_params, subhalo_params, cosmology_params, rng)"
   ]
  },
  {
   "cell_type": "code",
   "execution_count": null,
   "id": "420c28a1-8ecc-453f-87b1-209b91e6f0c6",
   "metadata": {
    "tags": []
   },
   "outputs": [],
   "source": [
    "# Here I'm drawing from paltas and from jaxstronomy and storing the results of both draws.\n",
    "n_draws = 1000\n",
    "paltas_kwargs_list = []\n",
    "paltas_n_subhalos = np.zeros(n_draws)\n",
    "for i in range(n_draws):\n",
    "    paltas_models, paltas_kwargs, paltas_z = config_handler.subhalo_class.draw_subhalos()\n",
    "    paltas_n_subhalos[i] = len(paltas_models)\n",
    "    paltas_kwargs_list.append(paltas_kwargs)\n",
    "\n",
    "rng_draw, _ = jax.random.split(rng)\n",
    "jaxstronomy_kwargs_list = []\n",
    "jaxstronomy_n_subhalos = np.zeros(n_draws)\n",
    "for i in range(n_draws):\n",
    "    rng_draw, _ = jax.random.split(rng_draw)\n",
    "    jaxstronomy_z_list, jaxstronomy_kwargs = draw_subhalos_jit(main_deflector_params, source_params, subhalo_params, cosmology_params, rng_draw)\n",
    "    jaxstronomy_n_subhalos[i] = jnp.sum(jaxstronomy_kwargs['alpha_rs'] > 0.0)\n",
    "    jaxstronomy_kwargs_list.append(jaxstronomy_kwargs)"
   ]
  },
  {
   "cell_type": "code",
   "execution_count": null,
   "id": "c84a4e86-8cc0-4431-a029-e3f3ae1519aa",
   "metadata": {
    "tags": []
   },
   "outputs": [],
   "source": [
    "# Start by comparing the number of subhalos being drawn and make sure they look similar.\n",
    "_, bins, _ = plt.hist(paltas_n_subhalos, bins=30, histtype='step', lw=3)\n",
    "plt.hist(jaxstronomy_n_subhalos, bins=bins, histtype='step', lw=3)\n",
    "plt.xlabel('Number of Subhalos')\n",
    "plt.ylabel('Count')\n",
    "plt.legend(['paltas', 'jaxstronomy'])\n",
    "plt.show()"
   ]
  },
  {
   "cell_type": "code",
   "execution_count": null,
   "id": "8413d3d2-895c-475d-827f-10b5ac860b41",
   "metadata": {
    "tags": []
   },
   "outputs": [],
   "source": [
    "# Now compare the distribution of the parameters.\n",
    "def extract_np_array_paltas(param, list_of_draws):\n",
    "    concat_values = []\n",
    "    for draw in list_of_draws:\n",
    "        for subhalos in draw:\n",
    "            concat_values.append(subhalos[param])\n",
    "    return np.array(concat_values)\n",
    "\n",
    "def extract_np_array_jaxstronomy(param, list_of_draws):\n",
    "    concat_values = []\n",
    "    for draw in list_of_draws:\n",
    "        concat_values.append(draw[param])\n",
    "    return np.concatenate(concat_values)\n",
    "\n",
    "def extract_without_zeros_jaxstronomy(param, list_of_draws, model_index):\n",
    "    array = extract_np_array_jaxstronomy(param, list_of_draws)\n",
    "    return array[model_index > -1]\n",
    "\n",
    "model_index_jax = extract_np_array_jaxstronomy('model_index', jaxstronomy_kwargs_list)\n",
    "_, bins, _ = plt.hist(np.log(extract_np_array_paltas('alpha_Rs', paltas_kwargs_list)), bins=100, histtype='step', log=True, lw=3)\n",
    "plt.hist(np.log(extract_without_zeros_jaxstronomy('alpha_rs', jaxstronomy_kwargs_list, model_index_jax)), bins=bins, histtype='step', log=True, lw=3)\n",
    "plt.xlabel(r'Mass Proxy $(\\alpha_{Rs})$')\n",
    "plt.ylabel('Count')\n",
    "plt.legend(['paltas', 'jaxstronomy'])\n",
    "plt.show()\n",
    "\n",
    "_, bins, _ = plt.hist(np.log(extract_np_array_paltas('Rs', paltas_kwargs_list)), bins=100, histtype='step', log=True, lw=3)\n",
    "plt.hist(np.log(extract_without_zeros_jaxstronomy('scale_radius', jaxstronomy_kwargs_list, model_index_jax)), bins=bins, histtype='step', log=True, lw=3)\n",
    "plt.xlabel(r'Size Proxy $(Rs)$')\n",
    "plt.ylabel('Count')\n",
    "plt.legend(['paltas', 'jaxstronomy'])\n",
    "plt.show()\n",
    "\n",
    "_, bins, _ = plt.hist(np.log(extract_np_array_paltas('r_trunc', paltas_kwargs_list)), bins=100, histtype='step', log=True, lw=3)\n",
    "plt.hist(np.log(extract_without_zeros_jaxstronomy('trunc_radius', jaxstronomy_kwargs_list, model_index_jax)), bins=bins, histtype='step', log=True, lw=3)\n",
    "plt.xlabel(r'Truncation Radius')\n",
    "plt.ylabel('Count')\n",
    "plt.legend(['paltas', 'jaxstronomy'])\n",
    "plt.show()\n",
    "\n",
    "_, bins, _ = plt.hist(extract_np_array_paltas('center_x', paltas_kwargs_list), bins=100, histtype='step', log=True, lw=3)\n",
    "plt.hist(extract_without_zeros_jaxstronomy('center_x', jaxstronomy_kwargs_list, model_index_jax), bins=bins, histtype='step', log=True, lw=3)\n",
    "plt.xlabel(r'Center x')\n",
    "plt.ylabel('Count')\n",
    "plt.legend(['paltas', 'jaxstronomy'])\n",
    "plt.show()\n",
    "\n",
    "_, bins, _ = plt.hist(extract_np_array_paltas('center_y', paltas_kwargs_list), bins=100, histtype='step', log=True, lw=3)\n",
    "plt.hist(extract_without_zeros_jaxstronomy('center_y', jaxstronomy_kwargs_list, model_index_jax), bins=bins, histtype='step', log=True, lw=3)\n",
    "plt.xlabel(r'Center y')\n",
    "plt.ylabel('Count')\n",
    "plt.legend(['paltas', 'jaxstronomy'])\n",
    "plt.show()"
   ]
  },
  {
   "cell_type": "markdown",
   "id": "ffef12b4-9dc4-4eea-87db-ee03c77d2e0d",
   "metadata": {},
   "source": [
    "### Modify two of the substructure parameters, slope and normalization, and make sure that everything still agrees"
   ]
  },
  {
   "cell_type": "code",
   "execution_count": null,
   "id": "a050cbea-e334-4c17-98f9-8da00b30dae1",
   "metadata": {
    "tags": []
   },
   "outputs": [],
   "source": [
    "input_config_jax['lensing_config']['subhalo_params']['sigma_sub'] = jaxstronomy.input_pipeline.encode_constant(1.0e-3)\n",
    "input_config_jax['lensing_config']['subhalo_params']['shmf_plaw_index'] = jaxstronomy.input_pipeline.encode_constant(-1.92)\n",
    "subhalo_params = jaxstronomy.input_pipeline.draw_sample(input_config_jax['lensing_config']['subhalo_params'], rng)\n",
    "config_handler = paltas.Configs.config_handler.ConfigHandler('comparison_files/input_config_paltas_two.py')"
   ]
  },
  {
   "cell_type": "code",
   "execution_count": null,
   "id": "d5f39bbb-f9a0-42da-8725-9d3fcad4c045",
   "metadata": {
    "tags": []
   },
   "outputs": [],
   "source": [
    "# Again, draw from paltas and from jaxstronomy and storing the results of both draws.\n",
    "n_draws = 1000\n",
    "paltas_kwargs_list = []\n",
    "paltas_n_subhalos = np.zeros(n_draws)\n",
    "for i in range(n_draws):\n",
    "    paltas_models, paltas_kwargs, paltas_z = config_handler.subhalo_class.draw_subhalos()\n",
    "    paltas_n_subhalos[i] = len(paltas_models)\n",
    "    paltas_kwargs_list.append(paltas_kwargs)\n",
    "\n",
    "rng_draw, _ = jax.random.split(rng)\n",
    "jaxstronomy_kwargs_list = []\n",
    "jaxstronomy_n_subhalos = np.zeros(n_draws)\n",
    "for i in range(n_draws):\n",
    "    rng_draw, _ = jax.random.split(rng_draw)\n",
    "    jaxstronomy_z_list, jaxstronomy_kwargs = draw_subhalos_jit(main_deflector_params, source_params, subhalo_params, cosmology_params, rng_draw)\n",
    "    jaxstronomy_n_subhalos[i] = jnp.sum(jaxstronomy_kwargs['alpha_rs'] > 0.0)\n",
    "    jaxstronomy_kwargs_list.append(jaxstronomy_kwargs)"
   ]
  },
  {
   "cell_type": "code",
   "execution_count": null,
   "id": "b7647972-454c-4638-865b-0264aefbdb2e",
   "metadata": {
    "tags": []
   },
   "outputs": [],
   "source": [
    "# Start by comparing the number of subhalos being drawn and make sure they look similar.\n",
    "_, bins, _ = plt.hist(paltas_n_subhalos, bins=30, histtype='step', lw=3)\n",
    "plt.hist(jaxstronomy_n_subhalos, bins=bins, histtype='step', lw=3)\n",
    "plt.xlabel('Number of Subhalos')\n",
    "plt.ylabel('Count')\n",
    "plt.legend(['paltas', 'jaxstronomy'])\n",
    "plt.show()"
   ]
  },
  {
   "cell_type": "code",
   "execution_count": null,
   "id": "76025e56-2cf7-4e81-a327-20e9f36d701e",
   "metadata": {
    "tags": []
   },
   "outputs": [],
   "source": [
    "model_index_jax = extract_np_array_jaxstronomy('model_index', jaxstronomy_kwargs_list)\n",
    "_, bins, _ = plt.hist(np.log(extract_np_array_paltas('alpha_Rs', paltas_kwargs_list)), bins=100, histtype='step', log=True, lw=3)\n",
    "plt.hist(np.log(extract_without_zeros_jaxstronomy('alpha_rs', jaxstronomy_kwargs_list, model_index_jax)), bins=bins, histtype='step', log=True, lw=3)\n",
    "plt.xlabel(r'Max Proxy $(\\alpha_{Rs})$')\n",
    "plt.ylabel('Count')\n",
    "plt.legend(['paltas', 'jaxstronomy'])\n",
    "plt.show()\n",
    "\n",
    "_, bins, _ = plt.hist(np.log(extract_np_array_paltas('Rs', paltas_kwargs_list)), bins=100, histtype='step', log=True, lw=3)\n",
    "plt.hist(np.log(extract_without_zeros_jaxstronomy('scale_radius', jaxstronomy_kwargs_list, model_index_jax)), bins=bins, histtype='step', log=True, lw=3)\n",
    "plt.xlabel(r'Size Proxy $(Rs)$')\n",
    "plt.ylabel('Count')\n",
    "plt.legend(['paltas', 'jaxstronomy'])\n",
    "plt.show()\n",
    "\n",
    "_, bins, _ = plt.hist(np.log(extract_np_array_paltas('r_trunc', paltas_kwargs_list)), bins=100, histtype='step', log=True, lw=3)\n",
    "plt.hist(np.log(extract_without_zeros_jaxstronomy('trunc_radius', jaxstronomy_kwargs_list, model_index_jax)), bins=bins, histtype='step', log=True, lw=3)\n",
    "plt.xlabel(r'Truncation Radius')\n",
    "plt.ylabel('Count')\n",
    "plt.legend(['paltas', 'jaxstronomy'])\n",
    "plt.show()\n",
    "\n",
    "_, bins, _ = plt.hist(extract_np_array_paltas('center_x', paltas_kwargs_list), bins=100, histtype='step', log=True, lw=3)\n",
    "plt.hist(extract_without_zeros_jaxstronomy('center_x', jaxstronomy_kwargs_list, model_index_jax), bins=bins, histtype='step', log=True, lw=3)\n",
    "plt.xlabel(r'Center x')\n",
    "plt.ylabel('Count')\n",
    "plt.legend(['paltas', 'jaxstronomy'])\n",
    "plt.show()\n",
    "\n",
    "_, bins, _ = plt.hist(extract_np_array_paltas('center_y', paltas_kwargs_list), bins=100, histtype='step', log=True, lw=3)\n",
    "plt.hist(extract_without_zeros_jaxstronomy('center_y', jaxstronomy_kwargs_list, model_index_jax), bins=bins, histtype='step', log=True, lw=3)\n",
    "plt.xlabel(r'Center y')\n",
    "plt.ylabel('Count')\n",
    "plt.legend(['paltas', 'jaxstronomy'])\n",
    "plt.show()"
   ]
  },
  {
   "cell_type": "markdown",
   "id": "718365fd-b607-465a-8d82-ec51aeaafc67",
   "metadata": {},
   "source": [
    "## Generating a lensing image and comparing it to no substructure."
   ]
  },
  {
   "cell_type": "code",
   "execution_count": null,
   "id": "b4fd1ae6-8d42-4829-9722-437f1dfd591e",
   "metadata": {
    "tags": []
   },
   "outputs": [],
   "source": [
    "# Setup paltas and jaxstronomy configs\n",
    "config_handler_zero = paltas.Configs.config_handler.ConfigHandler('comparison_files/input_config_paltas_zero.py')\n",
    "config_handler = paltas.Configs.config_handler.ConfigHandler('comparison_files/input_config_paltas.py')\n",
    "# No noise in paltas and jaxstronomy to make things easier\n",
    "config_handler.add_noise=False\n",
    "config_handler_zero.add_noise = False\n",
    "\n",
    "from comparison_files import input_config_jaxstronomy\n",
    "rng = jax.random.PRNGKey(0)\n",
    "input_config_jax = input_config_jaxstronomy.get_config()\n",
    "draw_image_and_truth_jit = jax.jit(functools.partial(jaxstronomy.input_pipeline.draw_image_and_truth, all_models=input_config_jax['all_models'],\n",
    "                                                    principal_md_index=input_config_jax['principal_md_index'], principal_source_index=input_config_jax['principal_source_index'],\n",
    "                                                    kwargs_simulation=input_config_jax['kwargs_simulation'], kwargs_detector=input_config_jax['kwargs_detector'],\n",
    "                                                    kwargs_psf=input_config_jax['kwargs_psf'], truth_parameters=input_config_jax['truth_parameters'], normalize_image=False))\n",
    "lensing_config_zero = copy.deepcopy(input_config_jax['lensing_config'])\n",
    "lensing_config_zero['subhalo_params']['sigma_sub'] = jaxstronomy.input_pipeline.encode_constant(0.0)\n",
    "cosmology_params = jaxstronomy.input_pipeline.intialize_cosmology_params(input_config_jax, rng)\n",
    "grid_x, grid_y = jaxstronomy.input_pipeline.generate_grids(input_config_jax)"
   ]
  },
  {
   "cell_type": "code",
   "execution_count": null,
   "id": "c6c8104a-d170-4584-9427-bdc04a81dadc",
   "metadata": {
    "tags": []
   },
   "outputs": [],
   "source": [
    "f, ax = plt.subplots(4, 4, figsize=(21.5, 22), sharex=False, sharey=False,gridspec_kw={'hspace': 0.02,'wspace':0.02},dpi=100)\n",
    "image_zero, _ = config_handler_zero.draw_image()\n",
    "for i in range(16):\n",
    "    image, metadata = config_handler.draw_image()\n",
    "    ax[i//4,i%4].imshow((image-image_zero)/image_zero,cmap='plasma')\n",
    "    ax[i//4,i%4].get_xaxis().set_visible(False)\n",
    "    ax[i//4,i%4].get_yaxis().set_visible(False)\n",
    "    \n",
    "plt.show()"
   ]
  },
  {
   "cell_type": "code",
   "execution_count": null,
   "id": "d7899769-093e-43cc-b78e-cd437de9febc",
   "metadata": {
    "tags": []
   },
   "outputs": [],
   "source": [
    "f, ax = plt.subplots(4, 4, figsize=(21.5, 22), sharex=False, sharey=False,gridspec_kw={'hspace': 0.02,'wspace':0.02},dpi=100)\n",
    "rng_draw, _ = jax.random.split(rng)\n",
    "image_jax_zero, _ = draw_image_and_truth_jit(lensing_config_zero, cosmology_params, grid_x, grid_y, rng_draw)\n",
    "\n",
    "for i in range(16):\n",
    "    rng_draw, _ = jax.random.split(rng_draw)\n",
    "    image_jax, truth_jax = draw_image_and_truth_jit(input_config_jax['lensing_config'], cosmology_params, grid_x, grid_y, rng_draw)\n",
    "    ax[i//4,i%4].imshow((image_jax-image_jax_zero)/image_jax_zero,cmap='plasma')\n",
    "    ax[i//4,i%4].get_xaxis().set_visible(False)\n",
    "    ax[i//4,i%4].get_yaxis().set_visible(False)\n",
    "    \n",
    "plt.show()"
   ]
  },
  {
   "cell_type": "code",
   "execution_count": null,
   "id": "80a3da4c-4c1e-4066-91a4-db09205f161e",
   "metadata": {
    "tags": []
   },
   "outputs": [],
   "source": [
    "# Check that the error is essentially floating point without substructure. Ignore edges, that's just different psf treatment.\n",
    "plt.imshow((image_zero / image_jax_zero)[2:-2,2:-2])\n",
    "plt.colorbar()"
   ]
  },
  {
   "cell_type": "markdown",
   "id": "d30778f3-301d-4ac6-89a3-14f6afe431ab",
   "metadata": {},
   "source": [
    "### Get into the guts with just the main deflector"
   ]
  },
  {
   "cell_type": "code",
   "execution_count": null,
   "id": "e310fe14-9fd6-40f5-b1b7-8039b090b6de",
   "metadata": {
    "tags": []
   },
   "outputs": [],
   "source": [
    "# Start at the lowest level of comparison and work your way up until you find disagreement."
   ]
  },
  {
   "cell_type": "code",
   "execution_count": null,
   "id": "1122a09c-ff8b-46d7-8bd6-7f06c40f262f",
   "metadata": {
    "tags": []
   },
   "outputs": [],
   "source": [
    "# Make sure we're operating on the same grid\n",
    "grid_x, grid_y = jaxstronomy.input_pipeline.generate_grids(input_config_jax)"
   ]
  },
  {
   "cell_type": "code",
   "execution_count": null,
   "id": "83773968-6623-4cd4-bfee-2d846d1038ee",
   "metadata": {
    "tags": []
   },
   "outputs": [],
   "source": [
    "from lenstronomy.LensModel.lens_model import LensModel\n",
    "from lenstronomy.LightModel.light_model import LightModel\n",
    "from lenstronomy.ImSim.image_model import ImageModel\n",
    "\n",
    "# First go back to basics, just do the lensing straight with lenstronomy versus the paltas code and make sure we get the same result\n",
    "z_source = 1.5\n",
    "z_lens = 0.5\n",
    "cosmo = config_handler_zero.source_class.cosmo\n",
    "lens_model = LensModel(['EPL_NUMBA'], z_source, z_source, lens_redshift_list=[z_lens], cosmo=cosmo.toAstropy(), multi_plane=True)\n",
    "source_model = LightModel(['SERSIC_ELLIPSE'], source_redshift_list=z_source)\n",
    "\n",
    "# These are the kwargs for the lens and the source\n",
    "kwargs_lens = [{'theta_E': 1.1,\n",
    "    'gamma': 2.0,\n",
    "    'e1': 0.05263157894736841,\n",
    "    'e2': 0.0,\n",
    "    'center_x': 0.08,\n",
    "    'center_y': -0.16}]\n",
    "kwargs_source = [{'R_sersic': 1.5,\n",
    "    'center_x': 0.16,\n",
    "    'center_y': -0.08,\n",
    "    'e1': 0.05263157894736841,\n",
    "    'e2': 0.0,\n",
    "    'n_sersic': 1.5,\n",
    "    'amp': 10.000075423785681}]\n",
    "\n",
    "true_x, true_y = lens_model.ray_shooting(grid_x, grid_y, kwargs_lens)\n",
    "lenstronomy_image = source_model.surface_brightness(true_x, true_y, kwargs_source).reshape((256,256)) * 0.020**2\n",
    "\n",
    "# And there we have the psf-free lenstronomy image\n",
    "plt.imshow(lenstronomy_image)\n",
    "plt.colorbar()\n",
    "plt.show()"
   ]
  },
  {
   "cell_type": "code",
   "execution_count": null,
   "id": "c6d87ab2-a855-415f-8388-5d5bc6d6011b",
   "metadata": {
    "tags": []
   },
   "outputs": [],
   "source": [
    "comv_x = jnp.zeros_like(grid_x)\n",
    "comv_y = jnp.zeros_like(grid_y)\n",
    "alpha_x = jnp.copy(grid_x)\n",
    "alpha_y = jnp.copy(grid_y)\n",
    "state = (comv_x, comv_y, alpha_x, alpha_y, 0.0)\n",
    "\n",
    "all_lens_models = (jaxstronomy.lens_models.EPL,)\n",
    "kwargs_z_lens = {\n",
    "    'kwargs_lens': {'model_index': 0,\n",
    "                    'theta_e': 1.1,\n",
    "                    'slope': 2.0,\n",
    "                    'center_x': 0.08,\n",
    "                    'center_y': -0.16,\n",
    "                    'axis_ratio': 0.9,\n",
    "                    'angle': 0.0}, \n",
    "    'z_lens': 0.5}\n",
    "\n",
    "state, _ = jaxstronomy.image_simulation._ray_shooting_step(state, kwargs_z_lens, cosmology_params, z_source, all_lens_models)\n",
    "comv_x, comv_y, alpha_x, alpha_y, z_lens_last = state\n",
    "delta_t = jaxstronomy.cosmology_utils.comoving_distance(cosmology_params, z_lens_last, z_source)\n",
    "comv_x, comv_y = jaxstronomy.image_simulation._ray_step_add(comv_x, comv_y, alpha_x, alpha_y, delta_t)\n",
    "x_source, y_source = jaxstronomy.cosmology_utils.comoving_to_angle(comv_x, comv_y, cosmology_params, z_source)\n",
    "\n",
    "all_source_models = (jaxstronomy.source_models.SersicElliptic,)\n",
    "kwargs_source = {\n",
    "    'model_index':0,\n",
    "    'amp': 10.0,\n",
    "    'sersic_radius': 1.5,\n",
    "    'n_sersic': 1.5,\n",
    "    'axis_ratio': 0.9,\n",
    "    'angle': 0.0,\n",
    "    'center_x': 0.16,\n",
    "    'center_y': -0.08\n",
    "}\n",
    "jaxstronomy_image = jnp.zeros_like(grid_x)\n",
    "jaxstronomy_image, _ = jaxstronomy.image_simulation._add_surface_brightness(jaxstronomy_image, kwargs_source, x_source, y_source, all_source_models)\n",
    "jaxstronomy_image = jaxstronomy_image.reshape((256,256)) * 0.02 ** 2\n",
    "\n",
    "# And there we have the psf-free lenstronomy image\n",
    "plt.imshow(jaxstronomy_image)\n",
    "plt.colorbar()\n",
    "plt.show()"
   ]
  },
  {
   "cell_type": "code",
   "execution_count": null,
   "id": "0f8ddca4-53aa-444c-8c1c-825c05af309d",
   "metadata": {
    "tags": []
   },
   "outputs": [],
   "source": [
    "# And there we have the psf-free lenstronomy image\n",
    "plt.imshow(lenstronomy_image-jaxstronomy_image)\n",
    "plt.colorbar()\n",
    "plt.show()"
   ]
  },
  {
   "cell_type": "markdown",
   "id": "f0d71779-e7a1-4b5b-a9e8-3f041ac03f03",
   "metadata": {},
   "source": [
    "### One step further, let's draw a population of substructure from jaxstronomy and feed it to both pipelines."
   ]
  },
  {
   "cell_type": "code",
   "execution_count": null,
   "id": "abbceae6-37d1-4fb3-94cb-6352a12f264b",
   "metadata": {
    "tags": []
   },
   "outputs": [],
   "source": [
    "# Let's get the parameters for our models. This is copied straight from the input pipeline code.\n",
    "def get_draw_of_structure(input_config, rng):\n",
    "    kwargs_simulation = input_config['kwargs_simulation']\n",
    "    lensing_config = input_config['lensing_config']\n",
    "    all_models = input_config['all_models']\n",
    "    principal_md_index = input_config['principal_md_index']\n",
    "    principal_source_index = input_config['principal_source_index']\n",
    "    kwargs_psf = input_config['kwargs_psf']\n",
    "    kwargs_detector = input_config['kwargs_detector']\n",
    "\n",
    "    num_z_bins = kwargs_simulation['num_z_bins']\n",
    "    los_pad_length = kwargs_simulation['los_pad_length']\n",
    "    subhalos_pad_length = kwargs_simulation['subhalos_pad_length']\n",
    "    sampling_pad_length = kwargs_simulation['sampling_pad_length']\n",
    "\n",
    "    rng_md, rng_source, rng_ll, rng_los, rng_sub, rng = jax.random.split(rng, 6)\n",
    "    main_deflector_params = jaxstronomy.input_pipeline.extract_multiple_models(\n",
    "        lensing_config['main_deflector_params'], rng_md,\n",
    "        len(all_models['all_main_deflector_models'])\n",
    "    )\n",
    "    source_params = jaxstronomy.input_pipeline.extract_multiple_models(\n",
    "        lensing_config['source_params'], rng_source,\n",
    "        len(all_models['all_source_models'])\n",
    "    )\n",
    "    lens_light_params = jaxstronomy.input_pipeline.extract_multiple_models(\n",
    "        lensing_config['lens_light_params'], rng_ll,\n",
    "        len(all_models['all_source_models'])\n",
    "    )\n",
    "    los_params = jaxstronomy.input_pipeline.draw_sample(lensing_config['los_params'], rng_los)\n",
    "    subhalo_params = jaxstronomy.input_pipeline.draw_sample(lensing_config['subhalo_params'], rng_sub)\n",
    "\n",
    "    # Extract the principle model for redshifts and substructure draws.\n",
    "    main_deflector_params_sub = jax.tree_util.tree_map(\n",
    "        lambda x: x[principal_md_index], main_deflector_params\n",
    "    )\n",
    "    source_params_sub = jax.tree_util.tree_map(\n",
    "        lambda x: x[principal_source_index], source_params\n",
    "    )\n",
    "    lens_light_params_sub = jax.tree_util.tree_map(\n",
    "        lambda x: x[principal_source_index], lens_light_params\n",
    "    )\n",
    "\n",
    "    # Repackage the parameters.\n",
    "    all_params = {\n",
    "        'source_params': source_params_sub,\n",
    "        'lens_light_params': lens_light_params_sub,\n",
    "        'los_params': los_params, 'subhalo_params': subhalo_params,\n",
    "        'main_deflector_params': main_deflector_params_sub\n",
    "    }\n",
    "\n",
    "    rng_los, rng_sub = jax.random.split(rng)\n",
    "    los_before_tuple, los_after_tuple = jaxstronomy.los.draw_los(\n",
    "        main_deflector_params_sub, source_params_sub, los_params,\n",
    "        cosmology_params, rng_los, num_z_bins, los_pad_length)\n",
    "    subhalos_z, subhalos_kwargs = jaxstronomy.subhalos.draw_subhalos(\n",
    "        main_deflector_params_sub, source_params_sub, subhalo_params,\n",
    "        cosmology_params, rng_sub, subhalos_pad_length, sampling_pad_length)\n",
    "\n",
    "    kwargs_lens_all = {\n",
    "        'z_array_los_before': los_before_tuple[0],\n",
    "        'kwargs_los_before': los_before_tuple[1],\n",
    "        'z_array_los_after': los_after_tuple[0],\n",
    "        'kwargs_los_after': los_after_tuple[1],\n",
    "        'kwargs_main_deflector': main_deflector_params,\n",
    "        'z_array_main_deflector': main_deflector_params['z_lens'],\n",
    "        'z_array_subhalos': subhalos_z, 'kwargs_subhalos': subhalos_kwargs}\n",
    "    z_source = source_params_sub['z_source']\n",
    "    \n",
    "    return source_params, kwargs_lens_all, lens_light_params\n",
    "\n",
    "# Pick an rng key that gives an odd image in the tests above.\n",
    "rng_draw, _ = jax.random.split(rng)\n",
    "rng_draw, _ = jax.random.split(rng_draw)\n",
    "source_params, kwargs_lens_all, lens_light_params = get_draw_of_structure(input_config_jax, rng_draw)"
   ]
  },
  {
   "cell_type": "code",
   "execution_count": null,
   "id": "e175e2ef-92e4-4ddf-9dbf-b826b5ab1946",
   "metadata": {
    "tags": []
   },
   "outputs": [],
   "source": [
    "# Now we can patch in this substructure as the output of get_lenstronomy_model_kwargs for our config_handler and we're good to go.\n",
    "def get_lenstronomy_model_kwargs(new_sample=False):\n",
    "    \n",
    "    kwargs_lens = []\n",
    "    kwargs_lens_light = []\n",
    "    kwargs_ps = []\n",
    "    kwargs_source = []\n",
    "    lens_model_list = []\n",
    "    lens_redshift_list = []\n",
    "    lens_light_model_list = []\n",
    "    point_source_model_list = []\n",
    "    source_light_model_list = []\n",
    "    source_redshift_list = []\n",
    "    multi_plane = True\n",
    "    z_source = source_params['z_source'][0]\n",
    "    z_source_convention = z_source\n",
    "    \n",
    "    # Populate the list of lens model names and parameters for subhalos\n",
    "    for i in range(int(jnp.sum(kwargs_lens_all['kwargs_subhalos']['model_index'] >= 0))):\n",
    "        lens_model_list.append('TNFW')\n",
    "        lens_redshift_list.append(float(kwargs_lens_all['z_array_subhalos'][i]))\n",
    "        kwargs_lens.append({\n",
    "            'alpha_Rs': float(kwargs_lens_all['kwargs_subhalos']['alpha_rs'][i]),\n",
    "            'Rs': float(kwargs_lens_all['kwargs_subhalos']['scale_radius'][i]),\n",
    "            'center_x': float(kwargs_lens_all['kwargs_subhalos']['center_x'][i]),\n",
    "            'center_y': float(kwargs_lens_all['kwargs_subhalos']['center_y'][i]),\n",
    "            'r_trunc': float(kwargs_lens_all['kwargs_subhalos']['trunc_radius'][i])})\n",
    "        \n",
    "    # Now add the main deflector\n",
    "    lens_model_list.append('EPL_NUMBA')\n",
    "    lens_redshift_list.append(0.5)\n",
    "    kwargs_lens.append({\n",
    "        'theta_E': 1.1,\n",
    "        'gamma': 2.0,\n",
    "        'e1': 0.05263157894736841,\n",
    "        'e2': 0.0,\n",
    "        'center_x': 0.08,\n",
    "        'center_y': -0.16})\n",
    "    \n",
    "    # Add the source\n",
    "    kwargs_source.append({'R_sersic': 1.5,\n",
    "                          'center_x': 0.16,\n",
    "                          'center_y': -0.08,\n",
    "                          'e1': 0.05263157894736841,\n",
    "                          'e2': 0.0,\n",
    "                          'n_sersic': 1.5,\n",
    "                          'amp': 10.000075423785681})\n",
    "    source_light_model_list.append('SERSIC_ELLIPSE')\n",
    "    source_redshift_list.append(z_source)\n",
    "    \n",
    "    kwargs_model = {}\n",
    "    kwargs_params = {}\n",
    "    kwargs_model['lens_model_list'] = lens_model_list\n",
    "    kwargs_params['kwargs_lens'] = kwargs_lens\n",
    "    kwargs_model['lens_redshift_list'] = lens_redshift_list\n",
    "    kwargs_model['lens_light_model_list'] = lens_light_model_list\n",
    "    kwargs_params['kwargs_lens_light'] = kwargs_lens_light\n",
    "    kwargs_model['point_source_model_list'] = point_source_model_list\n",
    "    kwargs_params['kwargs_ps'] = kwargs_ps\n",
    "    kwargs_model['source_light_model_list'] = source_light_model_list\n",
    "    kwargs_params['kwargs_source'] = kwargs_source\n",
    "    kwargs_model['source_redshift_list'] = source_redshift_list\n",
    "    kwargs_model['multi_plane'] = multi_plane\n",
    "    kwargs_model['z_source'] = z_source\n",
    "    kwargs_model['z_source_convention'] = z_source\n",
    "    \n",
    "    return kwargs_model, kwargs_params\n",
    "\n",
    "config_handler.get_lenstronomy_models_kwargs = get_lenstronomy_model_kwargs"
   ]
  },
  {
   "cell_type": "code",
   "execution_count": null,
   "id": "d9491ba9-e591-480f-b0a0-e1e364a07b57",
   "metadata": {
    "tags": []
   },
   "outputs": [],
   "source": [
    "# Draw our two images with the subhalos forced to be the same.\n",
    "image_compare, _ = config_handler.draw_image()\n",
    "image_compare_jax, _ = draw_image_and_truth_jit(input_config_jax['lensing_config'], cosmology_params, grid_x, grid_y, rng_draw)\n",
    "\n",
    "plt.imshow(image_compare)\n",
    "plt.colorbar()\n",
    "plt.show()\n",
    "\n",
    "plt.imshow(image_compare_jax)\n",
    "plt.colorbar()\n",
    "plt.show()"
   ]
  },
  {
   "cell_type": "code",
   "execution_count": null,
   "id": "4724bc2f-fe96-437c-9902-302f951a105b",
   "metadata": {
    "tags": []
   },
   "outputs": [],
   "source": [
    "plt.imshow((image_compare - image_zero) / image_zero, cmap='plasma')\n",
    "plt.colorbar()\n",
    "plt.show()\n",
    "\n",
    "plt.imshow((image_compare_jax - image_jax_zero) / image_jax_zero, cmap='plasma')\n",
    "plt.colorbar()\n",
    "plt.show()\n",
    "\n",
    "plt.imshow(((image_compare - image_compare_jax))[2:-2,2:-2])\n",
    "plt.colorbar()\n",
    "plt.show()"
   ]
  },
  {
   "cell_type": "code",
   "execution_count": null,
   "id": "efae1ffc-ae91-4d49-b9cd-ad36d29ce644",
   "metadata": {},
   "outputs": [],
   "source": []
  }
 ],
 "metadata": {
  "kernelspec": {
   "display_name": "Python 3 (ipykernel)",
   "language": "python",
   "name": "python3"
  },
  "language_info": {
   "codemirror_mode": {
    "name": "ipython",
    "version": 3
   },
   "file_extension": ".py",
   "mimetype": "text/x-python",
   "name": "python",
   "nbconvert_exporter": "python",
   "pygments_lexer": "ipython3",
   "version": "3.10.10"
  }
 },
 "nbformat": 4,
 "nbformat_minor": 5
}
