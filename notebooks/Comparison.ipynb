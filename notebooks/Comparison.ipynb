{
 "cells": [
  {
   "cell_type": "code",
   "execution_count": null,
   "id": "1bcce9f8-5b40-4ca0-8f1e-b84bcdde80cb",
   "metadata": {
    "tags": []
   },
   "outputs": [],
   "source": [
    "import paltas\n",
    "import jaxstronomy\n",
    "import jax\n",
    "import jax.numpy as jnp\n",
    "import numpy as np\n",
    "import functools\n",
    "import matplotlib.pyplot as plt\n",
    "import copy"
   ]
  },
  {
   "cell_type": "markdown",
   "id": "23104dfa-ee4f-4070-b200-b4688adba4ec",
   "metadata": {},
   "source": [
    "The paltas and jaxstronomy codebase are performing the same operations, so \n",
    "\n",
    "There are three components to an update step for our model:\n",
    "\n",
    "1. Drawing a population of dark matter substructure for the lensing calculations.\n",
    "2. Generating a lensing image given that dark matter substructure population.\n",
    "3. Updating the model given a batch of images.\n",
    "\n",
    "Below we'll create code that should generate the same outputs (up to random seed issues for the first bullepoint) that we can\n",
    "compare."
   ]
  },
  {
   "cell_type": "markdown",
   "id": "3ee63f8e-47ac-42af-b8c9-a6370b93ff1e",
   "metadata": {},
   "source": [
    "## Drawing a population of dark matter substructure for the lensing calculations."
   ]
  },
  {
   "cell_type": "code",
   "execution_count": null,
   "id": "54cdcc6e-684e-4938-a8a9-cf3786ab1623",
   "metadata": {
    "tags": []
   },
   "outputs": [],
   "source": [
    "# Setup paltas and jaxstronomy configs\n",
    "config_handler = paltas.Configs.config_handler.ConfigHandler('comparison_files/input_config_paltas.py')\n",
    "\n",
    "from comparison_files import input_config_jaxstronomy\n",
    "rng = jax.random.PRNGKey(0)\n",
    "input_config_jax = input_config_jaxstronomy.get_config()"
   ]
  },
  {
   "cell_type": "code",
   "execution_count": null,
   "id": "d6799902-8c81-4eaf-82dd-198aabfe4652",
   "metadata": {
    "tags": []
   },
   "outputs": [],
   "source": [
    "# A bit of setup for the jaxstronomy code. This is drawing the specific distribution parameters for the subhalos, main deflector halos,\n",
    "# and the source. These are all encoded as constants, so we're just drawing the constant values.\n",
    "subhalo_params = jaxstronomy.input_pipeline.draw_sample(input_config_jax['lensing_config']['subhalo_params'], rng)\n",
    "main_deflector_params = jaxstronomy.input_pipeline.draw_sample(input_config_jax['lensing_config']['main_deflector_params'], rng)\n",
    "source_params = jaxstronomy.input_pipeline.draw_sample(input_config_jax['lensing_config']['source_params'], rng)\n",
    "\n",
    "# Initialize the cosmology parameters we need for our cosmology calculations and create a jitted function for fast draws.\n",
    "cosmology_params = jaxstronomy.input_pipeline.intialize_cosmology_params(input_config_jax, rng)\n",
    "subhalos_pad_length = 1000\n",
    "sampling_pad_length = 100000\n",
    "draw_subhalos_jit = jax.jit(functools.partial(jaxstronomy.subhalos.draw_subhalos, subhalos_pad_length=subhalos_pad_length, \n",
    "                                              sampling_pad_length=sampling_pad_length))\n",
    "_ = draw_subhalos_jit(main_deflector_params, source_params, subhalo_params, cosmology_params, rng)"
   ]
  },
  {
   "cell_type": "code",
   "execution_count": null,
   "id": "420c28a1-8ecc-453f-87b1-209b91e6f0c6",
   "metadata": {
    "tags": []
   },
   "outputs": [],
   "source": [
    "# Here I'm drawing from paltas and from jaxstronomy and storing the results of both draws.\n",
    "n_draws = 1000\n",
    "paltas_kwargs_list = []\n",
    "paltas_n_subhalos = np.zeros(n_draws)\n",
    "for i in range(n_draws):\n",
    "    paltas_models, paltas_kwargs, paltas_z = config_handler.subhalo_class.draw_subhalos()\n",
    "    paltas_n_subhalos[i] = len(paltas_models)\n",
    "    paltas_kwargs_list.append(paltas_kwargs)\n",
    "\n",
    "rng_draw, _ = jax.random.split(rng)\n",
    "jaxstronomy_kwargs_list = []\n",
    "jaxstronomy_n_subhalos = np.zeros(n_draws)\n",
    "for i in range(n_draws):\n",
    "    rng_draw, _ = jax.random.split(rng_draw)\n",
    "    jaxstronomy_z_list, jaxstronomy_kwargs = draw_subhalos_jit(main_deflector_params, source_params, subhalo_params, cosmology_params, rng_draw)\n",
    "    jaxstronomy_n_subhalos[i] = jnp.sum(jaxstronomy_kwargs['alpha_rs'] > 0.0)\n",
    "    jaxstronomy_kwargs_list.append(jaxstronomy_kwargs)"
   ]
  },
  {
   "cell_type": "code",
   "execution_count": null,
   "id": "c84a4e86-8cc0-4431-a029-e3f3ae1519aa",
   "metadata": {
    "tags": []
   },
   "outputs": [],
   "source": [
    "# Start by comparing the number of subhalos being drawn and make sure they look similar.\n",
    "_, bins, _ = plt.hist(paltas_n_subhalos, bins=30, histtype='step', lw=3)\n",
    "plt.hist(jaxstronomy_n_subhalos, bins=bins, histtype='step', lw=3)\n",
    "plt.xlabel('Number of Subhalos')\n",
    "plt.ylabel('Count')\n",
    "plt.legend(['paltas', 'jaxstronomy'])\n",
    "plt.show()"
   ]
  },
  {
   "cell_type": "code",
   "execution_count": null,
   "id": "8413d3d2-895c-475d-827f-10b5ac860b41",
   "metadata": {
    "tags": []
   },
   "outputs": [],
   "source": [
    "# Now compare the distribution of the parameters.\n",
    "def extract_np_array_paltas(param, list_of_draws):\n",
    "    concat_values = []\n",
    "    for draw in list_of_draws:\n",
    "        for subhalos in draw:\n",
    "            concat_values.append(subhalos[param])\n",
    "    return np.array(concat_values)\n",
    "\n",
    "def extract_np_array_jaxstronomy(param, list_of_draws):\n",
    "    concat_values = []\n",
    "    for draw in list_of_draws:\n",
    "        concat_values.append(draw[param])\n",
    "    return np.concatenate(concat_values)\n",
    "\n",
    "def extract_without_zeros_jaxstronomy(param, list_of_draws, key):\n",
    "    array = extract_np_array_jaxstronomy(param, list_of_draws)\n",
    "    return array[key > 0.0]\n",
    "\n",
    "alpha_rs_jax = extract_np_array_jaxstronomy('alpha_rs', jaxstronomy_kwargs_list)\n",
    "_, bins, _ = plt.hist(np.log(extract_np_array_paltas('alpha_Rs', paltas_kwargs_list)), bins=100, histtype='step', log=True, lw=3)\n",
    "plt.hist(np.log(extract_without_zeros_jaxstronomy('alpha_rs', jaxstronomy_kwargs_list, alpha_rs_jax)), bins=bins, histtype='step', log=True, lw=3)\n",
    "plt.xlabel(r'Max Proxy $(\\alpha_{Rs})$')\n",
    "plt.ylabel('Count')\n",
    "plt.legend(['paltas', 'jaxstronomy'])\n",
    "plt.show()\n",
    "\n",
    "_, bins, _ = plt.hist(np.log(extract_np_array_paltas('Rs', paltas_kwargs_list)), bins=100, histtype='step', log=True, lw=3)\n",
    "plt.hist(np.log(extract_without_zeros_jaxstronomy('scale_radius', jaxstronomy_kwargs_list, alpha_rs_jax)), bins=bins, histtype='step', log=True, lw=3)\n",
    "plt.xlabel(r'Size Proxy $(Rs)$')\n",
    "plt.ylabel('Count')\n",
    "plt.legend(['paltas', 'jaxstronomy'])\n",
    "plt.show()\n",
    "\n",
    "_, bins, _ = plt.hist(np.log(extract_np_array_paltas('r_trunc', paltas_kwargs_list)), bins=100, histtype='step', log=True, lw=3)\n",
    "plt.hist(np.log(extract_without_zeros_jaxstronomy('trunc_radius', jaxstronomy_kwargs_list, alpha_rs_jax)), bins=bins, histtype='step', log=True, lw=3)\n",
    "plt.xlabel(r'Truncation Radius')\n",
    "plt.ylabel('Count')\n",
    "plt.legend(['paltas', 'jaxstronomy'])\n",
    "plt.show()\n",
    "\n",
    "_, bins, _ = plt.hist(extract_np_array_paltas('center_x', paltas_kwargs_list), bins=100, histtype='step', log=True, lw=3)\n",
    "plt.hist(extract_without_zeros_jaxstronomy('center_x', jaxstronomy_kwargs_list, alpha_rs_jax), bins=bins, histtype='step', log=True, lw=3)\n",
    "plt.xlabel(r'Center x')\n",
    "plt.ylabel('Count')\n",
    "plt.legend(['paltas', 'jaxstronomy'])\n",
    "plt.show()\n",
    "\n",
    "_, bins, _ = plt.hist(extract_np_array_paltas('center_y', paltas_kwargs_list), bins=100, histtype='step', log=True, lw=3)\n",
    "plt.hist(extract_without_zeros_jaxstronomy('center_y', jaxstronomy_kwargs_list, alpha_rs_jax), bins=bins, histtype='step', log=True, lw=3)\n",
    "plt.xlabel(r'Center y')\n",
    "plt.ylabel('Count')\n",
    "plt.legend(['paltas', 'jaxstronomy'])\n",
    "plt.show()"
   ]
  },
  {
   "cell_type": "markdown",
   "id": "ffef12b4-9dc4-4eea-87db-ee03c77d2e0d",
   "metadata": {},
   "source": [
    "### Modify two of the substructure parameters, slope and normalization, and make sure that everything still agrees"
   ]
  },
  {
   "cell_type": "code",
   "execution_count": null,
   "id": "a050cbea-e334-4c17-98f9-8da00b30dae1",
   "metadata": {
    "tags": []
   },
   "outputs": [],
   "source": [
    "input_config_jax['lensing_config']['subhalo_params']['sigma_sub'] = jaxstronomy.input_pipeline.encode_constant(1.0e-3)\n",
    "input_config_jax['lensing_config']['subhalo_params']['shmf_plaw_index'] = jaxstronomy.input_pipeline.encode_constant(-1.92)\n",
    "subhalo_params = jaxstronomy.input_pipeline.draw_sample(input_config_jax['lensing_config']['subhalo_params'], rng)\n",
    "config_handler = paltas.Configs.config_handler.ConfigHandler('comparison_files/input_config_paltas_two.py')"
   ]
  },
  {
   "cell_type": "code",
   "execution_count": null,
   "id": "d5f39bbb-f9a0-42da-8725-9d3fcad4c045",
   "metadata": {
    "tags": []
   },
   "outputs": [],
   "source": [
    "# Again, draw from paltas and from jaxstronomy and storing the results of both draws.\n",
    "n_draws = 1000\n",
    "paltas_kwargs_list = []\n",
    "paltas_n_subhalos = np.zeros(n_draws)\n",
    "for i in range(n_draws):\n",
    "    paltas_models, paltas_kwargs, paltas_z = config_handler.subhalo_class.draw_subhalos()\n",
    "    paltas_n_subhalos[i] = len(paltas_models)\n",
    "    paltas_kwargs_list.append(paltas_kwargs)\n",
    "\n",
    "rng_draw, _ = jax.random.split(rng)\n",
    "jaxstronomy_kwargs_list = []\n",
    "jaxstronomy_n_subhalos = np.zeros(n_draws)\n",
    "for i in range(n_draws):\n",
    "    rng_draw, _ = jax.random.split(rng_draw)\n",
    "    jaxstronomy_z_list, jaxstronomy_kwargs = draw_subhalos_jit(main_deflector_params, source_params, subhalo_params, cosmology_params, rng_draw)\n",
    "    jaxstronomy_n_subhalos[i] = jnp.sum(jaxstronomy_kwargs['alpha_rs'] > 0.0)\n",
    "    jaxstronomy_kwargs_list.append(jaxstronomy_kwargs)"
   ]
  },
  {
   "cell_type": "code",
   "execution_count": null,
   "id": "b7647972-454c-4638-865b-0264aefbdb2e",
   "metadata": {
    "tags": []
   },
   "outputs": [],
   "source": [
    "# Start by comparing the number of subhalos being drawn and make sure they look similar.\n",
    "_, bins, _ = plt.hist(paltas_n_subhalos, bins=30, histtype='step', lw=3)\n",
    "plt.hist(jaxstronomy_n_subhalos, bins=bins, histtype='step', lw=3)\n",
    "plt.xlabel('Number of Subhalos')\n",
    "plt.ylabel('Count')\n",
    "plt.legend(['paltas', 'jaxstronomy'])\n",
    "plt.show()"
   ]
  },
  {
   "cell_type": "code",
   "execution_count": null,
   "id": "76025e56-2cf7-4e81-a327-20e9f36d701e",
   "metadata": {
    "tags": []
   },
   "outputs": [],
   "source": [
    "alpha_rs_jax = extract_np_array_jaxstronomy('alpha_rs', jaxstronomy_kwargs_list)\n",
    "_, bins, _ = plt.hist(np.log(extract_np_array_paltas('alpha_Rs', paltas_kwargs_list)), bins=100, histtype='step', log=True, lw=3)\n",
    "plt.hist(np.log(extract_without_zeros_jaxstronomy('alpha_rs', jaxstronomy_kwargs_list, alpha_rs_jax)), bins=bins, histtype='step', log=True, lw=3)\n",
    "plt.xlabel(r'Max Proxy $(\\alpha_{Rs})$')\n",
    "plt.ylabel('Count')\n",
    "plt.legend(['paltas', 'jaxstronomy'])\n",
    "plt.show()\n",
    "\n",
    "_, bins, _ = plt.hist(np.log(extract_np_array_paltas('Rs', paltas_kwargs_list)), bins=100, histtype='step', log=True, lw=3)\n",
    "plt.hist(np.log(extract_without_zeros_jaxstronomy('scale_radius', jaxstronomy_kwargs_list, alpha_rs_jax)), bins=bins, histtype='step', log=True, lw=3)\n",
    "plt.xlabel(r'Size Proxy $(Rs)$')\n",
    "plt.ylabel('Count')\n",
    "plt.legend(['paltas', 'jaxstronomy'])\n",
    "plt.show()\n",
    "\n",
    "_, bins, _ = plt.hist(np.log(extract_np_array_paltas('r_trunc', paltas_kwargs_list)), bins=100, histtype='step', log=True, lw=3)\n",
    "plt.hist(np.log(extract_without_zeros_jaxstronomy('trunc_radius', jaxstronomy_kwargs_list, alpha_rs_jax)), bins=bins, histtype='step', log=True, lw=3)\n",
    "plt.xlabel(r'Truncation Radius')\n",
    "plt.ylabel('Count')\n",
    "plt.legend(['paltas', 'jaxstronomy'])\n",
    "plt.show()\n",
    "\n",
    "_, bins, _ = plt.hist(extract_np_array_paltas('center_x', paltas_kwargs_list), bins=100, histtype='step', log=True, lw=3)\n",
    "plt.hist(extract_without_zeros_jaxstronomy('center_x', jaxstronomy_kwargs_list, alpha_rs_jax), bins=bins, histtype='step', log=True, lw=3)\n",
    "plt.xlabel(r'Center x')\n",
    "plt.ylabel('Count')\n",
    "plt.legend(['paltas', 'jaxstronomy'])\n",
    "plt.show()\n",
    "\n",
    "_, bins, _ = plt.hist(extract_np_array_paltas('center_y', paltas_kwargs_list), bins=100, histtype='step', log=True, lw=3)\n",
    "plt.hist(extract_without_zeros_jaxstronomy('center_y', jaxstronomy_kwargs_list, alpha_rs_jax), bins=bins, histtype='step', log=True, lw=3)\n",
    "plt.xlabel(r'Center y')\n",
    "plt.ylabel('Count')\n",
    "plt.legend(['paltas', 'jaxstronomy'])\n",
    "plt.show()"
   ]
  },
  {
   "cell_type": "markdown",
   "id": "718365fd-b607-465a-8d82-ec51aeaafc67",
   "metadata": {},
   "source": [
    "## Generating a lensing image and comparing it to nno substructure."
   ]
  },
  {
   "cell_type": "code",
   "execution_count": null,
   "id": "b4fd1ae6-8d42-4829-9722-437f1dfd591e",
   "metadata": {
    "tags": []
   },
   "outputs": [],
   "source": [
    "# Setup paltas and jaxstronomy configs\n",
    "config_handler_zero = paltas.Configs.config_handler.ConfigHandler('comparison_files/input_config_paltas_zero.py')\n",
    "config_handler = paltas.Configs.config_handler.ConfigHandler('comparison_files/input_config_paltas.py')\n",
    "# No noise in paltas and jaxstronomy to make things easier\n",
    "config_handler.add_noise=False\n",
    "config_handler_zero.add_noise = False\n",
    "\n",
    "from comparison_files import input_config_jaxstronomy\n",
    "rng = jax.random.PRNGKey(0)\n",
    "input_config_jax = input_config_jaxstronomy.get_config()\n",
    "draw_image_and_truth_jit = jax.jit(functools.partial(jaxstronomy.input_pipeline.draw_image_and_truth, all_models=input_config_jax['all_models'],\n",
    "                                                    principal_md_index=input_config_jax['principal_md_index'], principal_source_index=input_config_jax['principal_source_index'],\n",
    "                                                    kwargs_simulation=input_config_jax['kwargs_simulation'], kwargs_detector=input_config_jax['kwargs_detector'],\n",
    "                                                    kwargs_psf=input_config_jax['kwargs_psf'], truth_parameters=input_config_jax['truth_parameters']))\n",
    "lensing_config_zero = copy.deepcopy(input_config_jax['lensing_config'])\n",
    "lensing_config_zero['subhalo_params']['sigma_sub'] = jaxstronomy.input_pipeline.encode_constant(0.0)\n",
    "cosmology_params = jaxstronomy.input_pipeline.intialize_cosmology_params(input_config_jax, rng)\n",
    "grid_x, grid_y = jaxstronomy.input_pipeline.generate_grids(input_config_jax)"
   ]
  },
  {
   "cell_type": "code",
   "execution_count": null,
   "id": "c6c8104a-d170-4584-9427-bdc04a81dadc",
   "metadata": {
    "tags": []
   },
   "outputs": [],
   "source": [
    "f, ax = plt.subplots(4, 4, figsize=(21.5, 22), sharex=False, sharey=False,gridspec_kw={'hspace': 0.02,'wspace':0.02},dpi=100)\n",
    "image_zero, _ = config_handler_zero.draw_image()\n",
    "for i in range(16):\n",
    "    image, metadata = config_handler.draw_image()\n",
    "    ax[i//4,i%4].imshow((image-image_zero)/image_zero,cmap='plasma')\n",
    "    ax[i//4,i%4].get_xaxis().set_visible(False)\n",
    "    ax[i//4,i%4].get_yaxis().set_visible(False)\n",
    "    \n",
    "plt.show()"
   ]
  },
  {
   "cell_type": "code",
   "execution_count": null,
   "id": "d7899769-093e-43cc-b78e-cd437de9febc",
   "metadata": {
    "tags": []
   },
   "outputs": [],
   "source": [
    "f, ax = plt.subplots(4, 4, figsize=(21.5, 22), sharex=False, sharey=False,gridspec_kw={'hspace': 0.02,'wspace':0.02},dpi=100)\n",
    "rng_draw, _ = jax.random.split(rng)\n",
    "image_jax_zero, _ = draw_image_and_truth_jit(lensing_config_zero, cosmology_params, grid_x, grid_y, rng_draw)\n",
    "for i in range(16):\n",
    "    rng_draw, _ = jax.random.split(rng_draw)\n",
    "    image_jax, truth_jax = draw_image_and_truth_jit(input_config_jax['lensing_config'], cosmology_params, grid_x, grid_y, rng_draw)\n",
    "    ax[i//4,i%4].imshow((image_jax-image_jax_zero)/image_jax_zero,cmap='plasma')\n",
    "    ax[i//4,i%4].get_xaxis().set_visible(False)\n",
    "    ax[i//4,i%4].get_yaxis().set_visible(False)\n",
    "    \n",
    "plt.show()"
   ]
  },
  {
   "cell_type": "code",
   "execution_count": null,
   "id": "88f847bb-487f-4a00-84b9-cc5668161cbb",
   "metadata": {},
   "outputs": [],
   "source": []
  }
 ],
 "metadata": {
  "kernelspec": {
   "display_name": "Python 3 (ipykernel)",
   "language": "python",
   "name": "python3"
  },
  "language_info": {
   "codemirror_mode": {
    "name": "ipython",
    "version": 3
   },
   "file_extension": ".py",
   "mimetype": "text/x-python",
   "name": "python",
   "nbconvert_exporter": "python",
   "pygments_lexer": "ipython3",
   "version": "3.10.10"
  }
 },
 "nbformat": 4,
 "nbformat_minor": 5
}
