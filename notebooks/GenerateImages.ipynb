{
 "cells": [
  {
   "cell_type": "markdown",
   "id": "c060308d",
   "metadata": {},
   "source": [
    "Running this notebook require some packages not included in the `paltax` requirements. If you do not already have these packages you will need to run:\n",
    ".. code-block:: bash\n",
    "\n",
    "    $ pip install matplotlib\n"
   ]
  },
  {
   "cell_type": "code",
   "execution_count": null,
   "id": "18b91c55-fa9f-4e9e-b465-fd85c04cb40a",
   "metadata": {},
   "outputs": [],
   "source": [
    "import functools\n",
    "\n",
    "import jax\n",
    "import matplotlib.pyplot as plt\n",
    "\n",
    "from paltax import input_pipeline\n",
    "from paltax.InputConfigs import input_config_psf"
   ]
  },
  {
   "cell_type": "markdown",
   "id": "66527935-b281-46d3-ab89-0fe76bbdfe80",
   "metadata": {},
   "source": [
    "# Generating Images Using `paltax`\n",
    "\n",
    "__Author:__ Sebastian Wagner-Carena\n",
    "\n",
    "__Goals:__ \n",
    "\n",
    "1. Import a `paltax` input configuration file.\n",
    "2. Use the input_pipeline functions to draw batches of images.\n",
    "\n",
    "### Table of Contents\n",
    "\n",
    "1. [Input Configuration File](#input_config)\n",
    "2. [Drawing Images](#draw_images) \n",
    "    "
   ]
  },
  {
   "cell_type": "markdown",
   "id": "31afed40-5ac3-4233-9037-26f658f3e8e6",
   "metadata": {},
   "source": [
    "## Input Configuration File <a class=\"anchor\" id=\"input_config\"></a>\n",
    "\n",
    "**Import a paltax input configuration file.**\n",
    "\n",
    "Let's start by importing a paltax configuration file and disecting some of its values."
   ]
  },
  {
   "cell_type": "code",
   "execution_count": null,
   "id": "7c7ef753-0988-4901-b7a0-202a96f40111",
   "metadata": {},
   "outputs": [],
   "source": [
    "# Load the input configuration from a file\n",
    "input_config = input_config_psf.get_config()"
   ]
  },
  {
   "cell_type": "markdown",
   "id": "8eaec0e8-a11f-4416-bdce-e096db8d8dec",
   "metadata": {},
   "source": [
    "Some of the values in the input configuration are fairly straight forward. They are dictonaries that specify parameter values required for simulating the strong lenses. For example, the `kwargs_detector` specifies parameters that control the size of the image, the supersampling, and the noise."
   ]
  },
  {
   "cell_type": "code",
   "execution_count": null,
   "id": "2900bb06-c685-4aa9-bbef-4e151eb175fb",
   "metadata": {},
   "outputs": [],
   "source": [
    "input_config['kwargs_detector']"
   ]
  },
  {
   "cell_type": "markdown",
   "id": "705d8e8b-8566-46f3-a574-7752b1ed66f2",
   "metadata": {},
   "source": [
    "The parameters that control the lensing configuration and the psf are more complicated. They hold large arrays the encode distributions that can be used to draw parameter values. Here's an example:"
   ]
  },
  {
   "cell_type": "code",
   "execution_count": null,
   "id": "41821891-a5ef-4e02-a961-8f677127309f",
   "metadata": {},
   "outputs": [],
   "source": [
    "# Start by taking a look at the x-coordinate center of the main deflector.\n",
    "input_config['lensing_config']['main_deflector_params']['center_x']"
   ]
  },
  {
   "cell_type": "code",
   "execution_count": null,
   "id": "79b43181-4ba1-4ff9-8ca0-655568c15e95",
   "metadata": {},
   "outputs": [],
   "source": [
    "rng = jax.random.PRNGKey(1)\n",
    "input_pipeline.draw_sample(input_config['lensing_config']['main_deflector_params']['center_x'], rng)"
   ]
  },
  {
   "cell_type": "markdown",
   "id": "34813cfd-e708-4f8f-a0fe-b3004cb1aee1",
   "metadata": {},
   "source": [
    "This sampling will be done for free for us by the input_pipeline functions."
   ]
  },
  {
   "cell_type": "markdown",
   "id": "22e2bdb9-c6de-4920-a694-ba4da6a8e3ad",
   "metadata": {},
   "source": [
    "## Drawing Images <a class=\"anchor\" id=\"draw_images\"></a>\n",
    "\n",
    "**Use the input_pipeline functions to draw batches of images.**\n",
    "\n",
    "Using this configuration file, let's draw some images. All of the parameters we need to generate our images are already sitting in our input configuration. Let's start by creating our vmapped and jitted functions."
   ]
  },
  {
   "cell_type": "code",
   "execution_count": null,
   "id": "604d1058-5988-4c35-968a-048ec578c9f6",
   "metadata": {},
   "outputs": [],
   "source": [
    "# This is the main function we will be calling to create our images.\n",
    "draw_image_and_truth_vmap = jax.jit(jax.vmap(\n",
    "        functools.partial(\n",
    "            input_pipeline.draw_image_and_truth,\n",
    "            all_models=input_config['all_models'],\n",
    "            principal_model_indices=input_config['principal_model_indices'],\n",
    "            kwargs_simulation=input_config['kwargs_simulation'],\n",
    "            kwargs_detector=input_config['kwargs_detector'],\n",
    "            kwargs_psf=input_config['kwargs_psf'],\n",
    "            truth_parameters=input_config['truth_parameters'],\n",
    "            normalize_image=False),\n",
    "        in_axes=(None, None, None, None, 0, None)))\n",
    "\n",
    "# We will also want to pre-calculate a few values using input_pipeline functions.\n",
    "cosmology_params = input_pipeline.initialize_cosmology_params(input_config, rng)\n",
    "grid_x, grid_y = input_pipeline.generate_grids(input_config)"
   ]
  },
  {
   "cell_type": "code",
   "execution_count": null,
   "id": "cff8c85a-d430-41aa-88db-a556ec8c1dd8",
   "metadata": {},
   "outputs": [],
   "source": [
    "# Let's draw some images\n",
    "n_images = 32\n",
    "rng_array = jax.random.split(jax.random.PRNGKey(1), n_images)\n",
    "# You can specify rotation angles to be applied to the images. The rotation angles are applied\n",
    "# at the level of the ray-tracing code, so there are no issues with pixelization. For the most\n",
    "# part, we're only interested in this functionality when we want to capture the effects of\n",
    "# image augmentations during training.\n",
    "rotation_angle = 0.0\n",
    "\n",
    "# This first call will be slow since we are compiling the function. On CPU this may be\n",
    "# painfully slow.\n",
    "_ = draw_image_and_truth_vmap(input_config['lensing_config'], cosmology_params, grid_x,\n",
    "                              grid_y, rng_array, rotation_angle)"
   ]
  },
  {
   "cell_type": "markdown",
   "id": "a94a29fe-16b8-4fe2-9b2f-a3e4a3d7eb23",
   "metadata": {},
   "source": [
    "Once we're done, we have a fast function for drawing batches of images."
   ]
  },
  {
   "cell_type": "code",
   "execution_count": null,
   "id": "c071a3ca-54d0-4a80-81ef-a4f1a0e0de10",
   "metadata": {},
   "outputs": [],
   "source": [
    "%%timeit\n",
    "draw_image_and_truth_vmap(input_config['lensing_config'], cosmology_params, grid_x,\n",
    "                          grid_y, rng_array, rotation_angle)"
   ]
  },
  {
   "cell_type": "code",
   "execution_count": null,
   "id": "14020ff7-49e7-412f-97a2-1da6ccc1c548",
   "metadata": {},
   "outputs": [],
   "source": [
    "# Finally, let's take a look at one of our generated strong lenses.\n",
    "images, truths = draw_image_and_truth_vmap(input_config['lensing_config'], cosmology_params, grid_x,\n",
    "                                           grid_y, rng_array, rotation_angle)\n",
    "for image in images[:5]:\n",
    "    plt.imshow(image)\n",
    "    plt.show()"
   ]
  },
  {
   "cell_type": "code",
   "execution_count": null,
   "id": "54ed910a-4384-4204-9456-bab5717a4a1c",
   "metadata": {},
   "outputs": [],
   "source": []
  }
 ],
 "metadata": {
  "kernelspec": {
   "display_name": "Python 3 (ipykernel)",
   "language": "python",
   "name": "python3"
  },
  "language_info": {
   "codemirror_mode": {
    "name": "ipython",
    "version": 3
   },
   "file_extension": ".py",
   "mimetype": "text/x-python",
   "name": "python",
   "nbconvert_exporter": "python",
   "pygments_lexer": "ipython3",
   "version": "3.11.9"
  }
 },
 "nbformat": 4,
 "nbformat_minor": 5
}
